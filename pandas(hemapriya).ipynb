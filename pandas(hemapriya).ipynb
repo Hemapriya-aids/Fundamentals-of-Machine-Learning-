{
 "cells": [
  {
   "cell_type": "code",
   "execution_count": 5,
   "id": "f21aa726-43e0-4af5-8d0a-6971b9383ecd",
   "metadata": {},
   "outputs": [
    {
     "name": "stdout",
     "output_type": "stream",
     "text": [
      "0    10\n",
      "1    20\n",
      "2    30\n",
      "3    40\n",
      "4    50\n",
      "dtype: int64\n",
      "one      10\n",
      "two      20\n",
      "three    30\n",
      "four     40\n",
      "five     50\n",
      "dtype: int64\n"
     ]
    }
   ],
   "source": [
    "import pandas as pd\n",
    "data=[10,20,30,40,50]\n",
    "s1=pd.Series(data)\n",
    "print(s1)\n",
    "s2=pd.Series(data,index=['one','two','three','four','five'])\n",
    "print(s2)"
   ]
  },
  {
   "cell_type": "code",
   "execution_count": 10,
   "id": "2ae758a1-953c-4681-a255-f037fab09733",
   "metadata": {},
   "outputs": [
    {
     "name": "stdout",
     "output_type": "stream",
     "text": [
      "before:\n",
      " one      False\n",
      "two      False\n",
      "three     True\n",
      "four      True\n",
      "five      True\n",
      "dtype: bool\n",
      "after: three    30\n",
      "four     40\n",
      "five     50\n",
      "dtype: int64\n"
     ]
    }
   ],
   "source": [
    "greater=s2>25\n",
    "print(\"before:\\n\",greater )\n",
    "s3=s2[greater]\n",
    "print(\"after:\",s3)"
   ]
  },
  {
   "cell_type": "code",
   "execution_count": 11,
   "id": "beefe33f-88ae-46e4-9a3c-2c24964710d4",
   "metadata": {},
   "outputs": [
    {
     "name": "stdout",
     "output_type": "stream",
     "text": [
      "one      3.162278\n",
      "two      4.472136\n",
      "three    5.477226\n",
      "four     6.324555\n",
      "five     7.071068\n",
      "dtype: float64\n"
     ]
    }
   ],
   "source": [
    "import numpy as np\n",
    "s4=np.sqrt(s2)\n",
    "print(s4)"
   ]
  },
  {
   "cell_type": "code",
   "execution_count": 13,
   "id": "29f610a3-fc60-41e0-a49b-0a9bcd4142e9",
   "metadata": {},
   "outputs": [
    {
     "name": "stdout",
     "output_type": "stream",
     "text": [
      "   calories  duration\n",
      "0       456        56\n",
      "1       789        34\n",
      "2       345        45\n",
      "3       565        54\n"
     ]
    }
   ],
   "source": [
    "data={\n",
    "    \"calories\":[456,789,345,565],\n",
    "    \"duration\":[56,34,45,54]\n",
    "}\n",
    "df=pd.DataFrame(data)\n",
    "print(df)"
   ]
  },
  {
   "cell_type": "code",
   "execution_count": 15,
   "id": "92933778-4dde-418e-9298-c8d908bedff5",
   "metadata": {},
   "outputs": [
    {
     "name": "stdout",
     "output_type": "stream",
     "text": [
      "   year   state  pop\n",
      "0  2000    ohio  1.5\n",
      "1  2001    ohio  1.7\n",
      "2  2002  nevada  1.8\n",
      "3  2003    ohio  2.8\n"
     ]
    }
   ],
   "source": [
    "data1={\n",
    "    \"year\":['2000','2001','2002','2003'],\n",
    "    \"state\":['ohio','ohio','nevada','ohio'],\n",
    "    \"pop\":[1.5,1.7,1.8,2.8]\n",
    "}\n",
    "frame=pd.DataFrame(data1)\n",
    "print(frame)"
   ]
  },
  {
   "cell_type": "code",
   "execution_count": 16,
   "id": "71fd440f-e377-48a3-ab4a-4222b03983fd",
   "metadata": {},
   "outputs": [
    {
     "name": "stdout",
     "output_type": "stream",
     "text": [
      "       year   state  pop\n",
      "one    2000    ohio  1.5\n",
      "two    2001    ohio  1.7\n",
      "three  2002  nevada  1.8\n",
      "four   2003    ohio  2.8\n"
     ]
    }
   ],
   "source": [
    "frame1=pd.DataFrame(data1,index=['one','two','three','four'])\n",
    "print(frame1)"
   ]
  },
  {
   "cell_type": "code",
   "execution_count": 17,
   "id": "7a0d392a-f613-413e-904c-63d15d8e7825",
   "metadata": {},
   "outputs": [
    {
     "name": "stdout",
     "output_type": "stream",
     "text": [
      "    state  year  pop\n",
      "0    ohio  2000  1.5\n",
      "1    ohio  2001  1.7\n",
      "2  nevada  2002  1.8\n",
      "3    ohio  2003  2.8\n"
     ]
    }
   ],
   "source": [
    "frame1=pd.DataFrame(data1,columns=['state','year','pop'])\n",
    "print(frame1)"
   ]
  },
  {
   "cell_type": "code",
   "execution_count": 22,
   "id": "ab34e5e0-8ed6-4f55-8f72-dfe2fb86d5a2",
   "metadata": {},
   "outputs": [
    {
     "name": "stdout",
     "output_type": "stream",
     "text": [
      "   year   state  pop debt\n",
      "0  2000    ohio  1.5  NaN\n",
      "1  2001    ohio  1.7  NaN\n",
      "2  2002  nevada  1.8  NaN\n",
      "3  2003    ohio  2.8  NaN\n"
     ]
    }
   ],
   "source": [
    "frame2=pd.DataFrame(data1, columns=['year','state','pop','debt'])\n",
    "print(frame2)"
   ]
  },
  {
   "cell_type": "code",
   "execution_count": 27,
   "id": "8449ec89-140d-4ab6-87fe-5730121f6a75",
   "metadata": {},
   "outputs": [
    {
     "name": "stdout",
     "output_type": "stream",
     "text": [
      "0    2000\n",
      "1    2001\n",
      "2    2002\n",
      "3    2003\n",
      "Name: year, dtype: object\n",
      "0    NaN\n",
      "1    NaN\n",
      "2    NaN\n",
      "3    NaN\n",
      "Name: debt, dtype: object\n"
     ]
    }
   ],
   "source": [
    "print(frame2['year'])\n",
    "print(frame2['debt'])"
   ]
  },
  {
   "cell_type": "code",
   "execution_count": 34,
   "id": "0d87261e-7a9c-46a0-bd34-731cd16e3909",
   "metadata": {},
   "outputs": [
    {
     "name": "stdout",
     "output_type": "stream",
     "text": [
      "   year   state  pop debt\n",
      "2  2002  nevada  1.8  NaN\n",
      "3  2003    ohio  2.8  NaN\n",
      "1  2001    ohio  1.7  NaN\n"
     ]
    }
   ],
   "source": [
    "print(frame2.loc[[2,3,1]])"
   ]
  },
  {
   "cell_type": "code",
   "execution_count": 35,
   "id": "47d73495-244c-466b-9e8c-7b312e95c94f",
   "metadata": {},
   "outputs": [
    {
     "name": "stdout",
     "output_type": "stream",
     "text": [
      "   year   state  pop  debt\n",
      "0  2000    ohio  1.5  12.1\n",
      "1  2001    ohio  1.7  12.1\n",
      "2  2002  nevada  1.8  12.1\n",
      "3  2003    ohio  2.8  12.1\n"
     ]
    }
   ],
   "source": [
    "frame2['debt']=12.1\n",
    "print(frame2)"
   ]
  },
  {
   "cell_type": "code",
   "execution_count": 41,
   "id": "be387fde-3d0c-4738-92b6-a7800a815298",
   "metadata": {},
   "outputs": [
    {
     "name": "stdout",
     "output_type": "stream",
     "text": [
      "   year   state  pop  debt\n",
      "0  2000    ohio  1.5   0.0\n",
      "1  2001    ohio  1.7   1.0\n",
      "2  2002  nevada  1.8   2.0\n",
      "3  2003    ohio  2.8   3.0\n"
     ]
    }
   ],
   "source": [
    "import numpy as np\n",
    "frame2['debt']=np.arange(4.)\n",
    "print(frame2)"
   ]
  },
  {
   "cell_type": "code",
   "execution_count": 47,
   "id": "928b22bb-093f-493a-9ef5-2cc0a4c006ee",
   "metadata": {},
   "outputs": [
    {
     "name": "stdout",
     "output_type": "stream",
     "text": [
      "   year   state  pop  debt\n",
      "0  2000    ohio  1.5   NaN\n",
      "1  2001    ohio  1.7   1.2\n",
      "2  2002  nevada  1.8   NaN\n",
      "3  2003    ohio  2.8   3.4\n"
     ]
    }
   ],
   "source": [
    "value=pd.Series([1.2,3.4],index=[1,3])\n",
    "frame2['debt']=value\n",
    "\n",
    "print(frame2)"
   ]
  },
  {
   "cell_type": "code",
   "execution_count": 49,
   "id": "d622e4e7-1af0-4c0a-b475-5aa0ed90f5f8",
   "metadata": {},
   "outputs": [
    {
     "name": "stdout",
     "output_type": "stream",
     "text": [
      "   year   state  pop  debt  true or false\n",
      "0  2000    ohio  1.5   NaN          False\n",
      "1  2001    ohio  1.7   1.2          False\n",
      "2  2002  nevada  1.8   NaN           True\n",
      "3  2003    ohio  2.8   3.4           True\n"
     ]
    }
   ],
   "source": [
    "frame2['T/F']=frame2['year']>='2002'\n",
    "print(frame2)"
   ]
  },
  {
   "cell_type": "code",
   "execution_count": 53,
   "id": "8b18fa94-54f1-43af-ae50-88329837ae8f",
   "metadata": {},
   "outputs": [
    {
     "name": "stdout",
     "output_type": "stream",
     "text": [
      "          0     1       2     3\n",
      "year   2000  2001    2002  2003\n",
      "state  ohio  ohio  nevada  ohio\n",
      "pop     1.5   1.7     1.8   2.8\n",
      "debt    NaN   1.2     NaN   3.4\n"
     ]
    }
   ],
   "source": [
    "print(frame2.T)"
   ]
  },
  {
   "cell_type": "code",
   "execution_count": 55,
   "id": "60369a2a-5cb7-4d62-a987-657d0a42edcd",
   "metadata": {},
   "outputs": [
    {
     "name": "stdout",
     "output_type": "stream",
     "text": [
      "a    4.5\n",
      "f    6.4\n",
      "e    3.4\n",
      "dtype: float64\n"
     ]
    }
   ],
   "source": [
    "obj=pd.Series([4.5,6.4,3.4],index=['a','f','e'])\n",
    "print(obj)"
   ]
  },
  {
   "cell_type": "code",
   "execution_count": 59,
   "id": "06d7a27e-a19f-4a90-8a58-84651ee97574",
   "metadata": {},
   "outputs": [
    {
     "name": "stdout",
     "output_type": "stream",
     "text": [
      "a    4.5\n",
      "b    NaN\n",
      "c    NaN\n",
      "d    NaN\n",
      "f    6.4\n",
      "dtype: float64\n"
     ]
    }
   ],
   "source": [
    "obj2=obj.reindex(['a','b','c','d','f'])\n",
    "print(obj2)"
   ]
  },
  {
   "cell_type": "code",
   "execution_count": 61,
   "id": "b56f1e84-d26c-4935-87c2-58e8392a9e73",
   "metadata": {},
   "outputs": [
    {
     "name": "stdout",
     "output_type": "stream",
     "text": [
      "b    NaN\n",
      "c    NaN\n",
      "d    NaN\n",
      "f    6.4\n",
      "dtype: float64\n"
     ]
    }
   ],
   "source": [
    "new=obj2.drop(['a'])\n",
    "print(new)"
   ]
  },
  {
   "cell_type": "code",
   "execution_count": 75,
   "id": "e8853a97-adaf-43ac-acd3-91785974dab4",
   "metadata": {},
   "outputs": [
    {
     "name": "stdout",
     "output_type": "stream",
     "text": [
      "             sunday  monday  tuesday  wednesday  thursday  friday  saturday\n",
      "one week          0       1        2          3         4       5         6\n",
      "two week          7       8        9         10        11      12        13\n",
      "third week       14      15       16         17        18      19        20\n",
      "fourth week      21      22       23         24        25      26        27\n",
      "fifth week       28      29       30         31        32      33        34\n"
     ]
    }
   ],
   "source": [
    "data=pd.DataFrame(np.arange(35).reshape((5,7)),columns=['sunday','monday','tuesday','wednesday','thursday','friday','saturday'],index=['one week','two week','third week','fourth week','fifth week'])\n",
    "print(data)"
   ]
  },
  {
   "cell_type": "code",
   "execution_count": 73,
   "id": "e32f5107-2d4b-43d3-bf69-bb9694e14ede",
   "metadata": {},
   "outputs": [
    {
     "data": {
      "text/html": [
       "<div>\n",
       "<style scoped>\n",
       "    .dataframe tbody tr th:only-of-type {\n",
       "        vertical-align: middle;\n",
       "    }\n",
       "\n",
       "    .dataframe tbody tr th {\n",
       "        vertical-align: top;\n",
       "    }\n",
       "\n",
       "    .dataframe thead th {\n",
       "        text-align: right;\n",
       "    }\n",
       "</style>\n",
       "<table border=\"1\" class=\"dataframe\">\n",
       "  <thead>\n",
       "    <tr style=\"text-align: right;\">\n",
       "      <th></th>\n",
       "      <th>sunday</th>\n",
       "      <th>monday</th>\n",
       "      <th>tuesday</th>\n",
       "      <th>wednesday</th>\n",
       "      <th>thursday</th>\n",
       "      <th>friday</th>\n",
       "      <th>saturday</th>\n",
       "    </tr>\n",
       "  </thead>\n",
       "  <tbody>\n",
       "    <tr>\n",
       "      <th>two week</th>\n",
       "      <td>7</td>\n",
       "      <td>8</td>\n",
       "      <td>9</td>\n",
       "      <td>10</td>\n",
       "      <td>11</td>\n",
       "      <td>12</td>\n",
       "      <td>13</td>\n",
       "    </tr>\n",
       "    <tr>\n",
       "      <th>third week</th>\n",
       "      <td>14</td>\n",
       "      <td>15</td>\n",
       "      <td>16</td>\n",
       "      <td>17</td>\n",
       "      <td>18</td>\n",
       "      <td>19</td>\n",
       "      <td>20</td>\n",
       "    </tr>\n",
       "    <tr>\n",
       "      <th>fifth week</th>\n",
       "      <td>28</td>\n",
       "      <td>29</td>\n",
       "      <td>30</td>\n",
       "      <td>31</td>\n",
       "      <td>32</td>\n",
       "      <td>33</td>\n",
       "      <td>34</td>\n",
       "    </tr>\n",
       "  </tbody>\n",
       "</table>\n",
       "</div>"
      ],
      "text/plain": [
       "            sunday  monday  tuesday  wednesday  thursday  friday  saturday\n",
       "two week         7       8        9         10        11      12        13\n",
       "third week      14      15       16         17        18      19        20\n",
       "fifth week      28      29       30         31        32      33        34"
      ]
     },
     "execution_count": 73,
     "metadata": {},
     "output_type": "execute_result"
    }
   ],
   "source": [
    "data.drop(['one week','fourth week'])\n"
   ]
  },
  {
   "cell_type": "code",
   "execution_count": 77,
   "id": "3554d8b5-bb15-4bb6-b258-7ef6f1e03c91",
   "metadata": {},
   "outputs": [
    {
     "data": {
      "text/plain": [
       "one week        0\n",
       "two week        7\n",
       "third week     14\n",
       "fourth week    21\n",
       "fifth week     28\n",
       "Name: sunday, dtype: int64"
      ]
     },
     "execution_count": 77,
     "metadata": {},
     "output_type": "execute_result"
    }
   ],
   "source": [
    "data['sunday']\n"
   ]
  },
  {
   "cell_type": "code",
   "execution_count": 81,
   "id": "6d169a3e-4a48-4901-a919-bac162051487",
   "metadata": {},
   "outputs": [
    {
     "name": "stdout",
     "output_type": "stream",
     "text": [
      "ADDITION:\n",
      "    A   B\n",
      "0  6   8\n",
      "1  5  12\n",
      "2  9   9\n",
      "SUBTRACTION:\n",
      "    A  B\n",
      "0 -4 -4\n",
      "1 -1 -4\n",
      "2 -3  3\n",
      "MULTIPLICATION:\n",
      "     A   B\n",
      "0   5  12\n",
      "1   6  32\n",
      "2  18  18\n",
      "DIVISION:\n",
      "           A         B\n",
      "0  0.200000  0.333333\n",
      "1  0.666667  0.500000\n",
      "2  0.500000  2.000000\n"
     ]
    }
   ],
   "source": [
    "data1=pd.DataFrame({'A':[1,2,3],'B':[2,4,6]})\n",
    "data2=pd.DataFrame({'A':[5,3,6],'B':[6,8,3]})\n",
    "print(\"ADDITION:\\n\",data1+data2)\n",
    "print(\"SUBTRACTION:\\n\",data1-data2)\n",
    "print(\"MULTIPLICATION:\\n\",data1*data2)\n",
    "print(\"DIVISION:\\n\",data1/data2)"
   ]
  },
  {
   "cell_type": "code",
   "execution_count": null,
   "id": "320750ca-38b0-415b-b988-0213983b7a29",
   "metadata": {},
   "outputs": [],
   "source": []
  }
 ],
 "metadata": {
  "kernelspec": {
   "display_name": "Python 3 (ipykernel)",
   "language": "python",
   "name": "python3"
  },
  "language_info": {
   "codemirror_mode": {
    "name": "ipython",
    "version": 3
   },
   "file_extension": ".py",
   "mimetype": "text/x-python",
   "name": "python",
   "nbconvert_exporter": "python",
   "pygments_lexer": "ipython3",
   "version": "3.13.5"
  }
 },
 "nbformat": 4,
 "nbformat_minor": 5
}
